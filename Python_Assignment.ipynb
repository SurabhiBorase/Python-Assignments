{
  "nbformat": 4,
  "nbformat_minor": 0,
  "metadata": {
    "colab": {
      "provenance": []
    },
    "kernelspec": {
      "name": "python3",
      "display_name": "Python 3"
    },
    "language_info": {
      "name": "python"
    }
  },
  "cells": [
    {
      "cell_type": "code",
      "execution_count": 1,
      "metadata": {
        "colab": {
          "base_uri": "https://localhost:8080/"
        },
        "id": "MEqU9J5KgxDu",
        "outputId": "67d66077-4e7e-4c51-de2d-eb65ec187c99"
      },
      "outputs": [
        {
          "output_type": "stream",
          "name": "stdout",
          "text": [
            "This is Python Assignment\n"
          ]
        }
      ],
      "source": [
        "print (\"This is Python Assignment\")"
      ]
    },
    {
      "cell_type": "code",
      "source": [
        "a=5\n",
        "b=10\n",
        "print(\"Addition of a+b is:\",a+b)"
      ],
      "metadata": {
        "colab": {
          "base_uri": "https://localhost:8080/"
        },
        "id": "Umld9WWmg6RV",
        "outputId": "be7a90c5-2f29-46e0-9015-85d5e1ce726f"
      },
      "execution_count": 5,
      "outputs": [
        {
          "output_type": "stream",
          "name": "stdout",
          "text": [
            "Addition of a+b is: 15\n"
          ]
        }
      ]
    },
    {
      "cell_type": "code",
      "source": [
        "a = int(input(\"Enter the First number: \"))\n",
        "b = int(input(\"Enter the Second number: \"))\n",
        "\n",
        "Addition = a+b\n",
        "Substraction = a-b\n",
        "Multiplication = a*b\n",
        "Division = a/b\n",
        "\n",
        "\n",
        "print(\"Addition of First and Second Number is :\",Addition)\n",
        "print(\"Substraction of First and Second Number is :\",Substraction)\n",
        "print(\"Multiplication of First and Second Number is :\",Multiplication)\n",
        "print(\"Division of First and Second Number is :\",Division)\n"
      ],
      "metadata": {
        "colab": {
          "base_uri": "https://localhost:8080/"
        },
        "id": "B7G7huzli4hJ",
        "outputId": "0a809b99-712c-40c3-f2d8-7dfd7de190d0"
      },
      "execution_count": 23,
      "outputs": [
        {
          "output_type": "stream",
          "name": "stdout",
          "text": [
            "Enter the First number: 3\n",
            "Enter the Second number: 9\n",
            "Addition of First and Second Number is : 12\n",
            "Substraction of First and Second Number is : -6\n",
            "Multiplication of First and Second Number is : 27\n",
            "Division of First and Second Number is : 0.3333333333333333\n"
          ]
        }
      ]
    },
    {
      "cell_type": "code",
      "source": [],
      "metadata": {
        "id": "0EUFCp4YorNU"
      },
      "execution_count": null,
      "outputs": []
    }
  ]
}