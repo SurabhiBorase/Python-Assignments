{
  "nbformat": 4,
  "nbformat_minor": 0,
  "metadata": {
    "colab": {
      "provenance": []
    },
    "kernelspec": {
      "name": "python3",
      "display_name": "Python 3"
    },
    "language_info": {
      "name": "python"
    }
  },
  "cells": [
    {
      "cell_type": "code",
      "execution_count": 1,
      "metadata": {
        "colab": {
          "base_uri": "https://localhost:8080/"
        },
        "id": "MEqU9J5KgxDu",
        "outputId": "67d66077-4e7e-4c51-de2d-eb65ec187c99"
      },
      "outputs": [
        {
          "output_type": "stream",
          "name": "stdout",
          "text": [
            "This is Python Assignment\n"
          ]
        }
      ],
      "source": [
        "print (\"This is Python Assignment\")"
      ]
    },
    {
      "cell_type": "code",
      "source": [],
      "metadata": {
        "id": "Umld9WWmg6RV"
      },
      "execution_count": null,
      "outputs": []
    }
  ]
}